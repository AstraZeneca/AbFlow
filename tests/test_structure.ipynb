{
 "cells": [
  {
   "cell_type": "markdown",
   "metadata": {},
   "source": [
    "# Load a protein structure"
   ]
  },
  {
   "cell_type": "code",
   "execution_count": 1,
   "metadata": {},
   "outputs": [
    {
     "name": "stdout",
     "output_type": "stream",
     "text": [
      "[INFO] Chain A does not contain valid Fv region for scheme chothia.\n",
      "torch.Size([330, 3]) torch.Size([330, 3]) torch.Size([330, 3]) torch.Size([330, 3]) torch.Size([330])\n"
     ]
    }
   ],
   "source": [
    "import torch\n",
    "\n",
    "from abflow.structure import extract_pdb_structure\n",
    "                    \n",
    "# Extract backbone coordinates\n",
    "N_coords, CA_coords, C_coords, CB_coords, res_type, cdr_mask = extract_pdb_structure(\"./data/7eow.pdb\")\n",
    "\n",
    "print(N_coords.shape, CA_coords.shape, C_coords.shape, CB_coords.shape, res_type.shape)\n",
    "\n",
    "# Make sure the coordinates are in the correct shape (1, N, 3) for a single batch\n",
    "N_coords = N_coords.unsqueeze(0)\n",
    "CA_coords = CA_coords.unsqueeze(0)\n",
    "C_coords = C_coords.unsqueeze(0)\n",
    "CB_coords = CB_coords.unsqueeze(0)\n",
    "res_type = res_type.unsqueeze(0)"
   ]
  },
  {
   "cell_type": "code",
   "execution_count": 2,
   "metadata": {},
   "outputs": [
    {
     "data": {
      "text/plain": [
       "torch.Size([330])"
      ]
     },
     "execution_count": 2,
     "metadata": {},
     "output_type": "execute_result"
    }
   ],
   "source": [
    "cdr_mask['LCDR2'].shape"
   ]
  },
  {
   "cell_type": "markdown",
   "metadata": {},
   "source": [
    "# Frames to coords and back"
   ]
  },
  {
   "cell_type": "code",
   "execution_count": null,
   "metadata": {},
   "outputs": [],
   "source": [
    "from abflow.structure import bb_coords_to_frames, bb_frames_to_coords, impute_CB_coords, write_to_pdb\n",
    "from abflow.constants import aa3_name_to_index\n",
    "\n",
    "# Calculate frames from coordinates\n",
    "rotations, translations = bb_coords_to_frames(N_coords, CA_coords, C_coords)\n",
    "\n",
    "# Convert frames back to coordinates\n",
    "N_coords_reconstructed, CA_coords_reconstructed, C_coords_reconstructed = bb_frames_to_coords(rotations, translations)\n",
    "\n",
    "# Impute CB coordinates\n",
    "CB_coords_reconstructed = impute_CB_coords(N_coords_reconstructed, CA_coords_reconstructed, C_coords_reconstructed)\n",
    "\n",
    "# For glycine, set CB_coords to CA_coords\n",
    "gly_mask = res_type == aa3_name_to_index[\"GLY\"]\n",
    "CB_coords_reconstructed[gly_mask] = CA_coords_reconstructed[gly_mask]\n",
    "\n",
    "data = {\n",
    "    \"N_coords\": N_coords_reconstructed,\n",
    "    \"CA_coords\": CA_coords_reconstructed,\n",
    "    \"C_coords\": C_coords_reconstructed,\n",
    "    \"CB_coords\": CB_coords_reconstructed,\n",
    "    \"res_type\": res_type,\n",
    "    \"valid_mask\": torch.ones_like(res_type, dtype=torch.bool)\n",
    "}\n",
    "\n",
    "# Write the reconstructed structure to a PDB file\n",
    "write_to_pdb(data, \"./data/7eow_reconstructed.pdb\")"
   ]
  },
  {
   "cell_type": "markdown",
   "metadata": {},
   "source": [
    "# Structure violation"
   ]
  },
  {
   "cell_type": "code",
   "execution_count": 5,
   "metadata": {},
   "outputs": [
    {
     "name": "stdout",
     "output_type": "stream",
     "text": [
      "tensor([[0.0000, 0.0000, 0.0000, 0.0000, 0.0239]])\n",
      "tensor([[0., 0., 0., 0., 1.]])\n",
      "(tensor([0.0048]), tensor([0.2000]))\n",
      "tensor([[0.0264, 1.2024, 1.0924, 0.1371, 0.2910]])\n",
      "tensor([[1., 1., 1., 1., 1.]])\n",
      "(tensor([0.5499]), tensor([1.]))\n",
      "tensor([[0.0000, 0.1133, 0.2795, 0.3422, 0.0000]])\n",
      "tensor([[0., 1., 1., 1., 0.]])\n",
      "(tensor([0.1470]), tensor([0.6000]))\n",
      "tensor([[0.0264, 1.2024, 1.0924, 0.1371, 0.2910]])\n",
      "tensor([[1., 1., 1., 1., 1.]])\n",
      "tensor([[0.0000, 0.1133, 0.2795, 0.3422, 0.0000]])\n",
      "tensor([[0., 1., 1., 1., 0.]])\n",
      "tensor([[0.0000, 0.0000, 0.0000, 0.0000, 0.0239]])\n",
      "tensor([[0., 0., 0., 0., 1.]])\n",
      "tensor([1.])\n"
     ]
    }
   ],
   "source": [
    "import torch\n",
    "from abflow.model.metrics import get_violation, get_bb_bond_angle_loss, get_bb_bond_length_loss, get_bb_clash_loss\n",
    "\n",
    "num_res = 5\n",
    "noise = 0.005\n",
    "# add some noise to the coordinates\n",
    "pred_N_coords = N_coords[:, :num_res] * (1 + torch.randn_like(N_coords[:, :num_res]) * noise)\n",
    "pred_CA_coords = CA_coords[:, :num_res] * (1 + torch.randn_like(CA_coords[:, :num_res]) * noise)\n",
    "pred_C_coords = C_coords[:, :num_res] * (1 + torch.randn_like(C_coords[:, :num_res]) * noise)\n",
    "masks = [torch.ones(pred_N_coords.shape[:2])]\n",
    "\n",
    "print(get_bb_clash_loss(pred_N_coords, pred_CA_coords, pred_C_coords, masks))\n",
    "print(get_bb_bond_length_loss(pred_N_coords, pred_CA_coords, pred_C_coords, masks))\n",
    "print(get_bb_bond_angle_loss(pred_N_coords, pred_CA_coords, pred_C_coords, masks))\n",
    "print(get_violation(pred_N_coords, pred_CA_coords, pred_C_coords, masks))"
   ]
  },
  {
   "cell_type": "code",
   "execution_count": 3,
   "metadata": {},
   "outputs": [
    {
     "data": {
      "text/plain": [
       "tensor([[[1.0028, 1.0051, 0.9985],\n",
       "         [1.0111, 0.9914, 0.9933],\n",
       "         [0.9980, 0.9893, 0.9853],\n",
       "         [0.9930, 1.0068, 1.0230],\n",
       "         [0.9871, 0.9849, 0.9919]]])"
      ]
     },
     "execution_count": 3,
     "metadata": {},
     "output_type": "execute_result"
    }
   ],
   "source": [
    "(1 + torch.randn_like(N_coords[:, :num_res]) * noise)"
   ]
  },
  {
   "cell_type": "markdown",
   "metadata": {},
   "source": [
    "# TM score"
   ]
  },
  {
   "cell_type": "code",
   "execution_count": 13,
   "metadata": {},
   "outputs": [
    {
     "name": "stdout",
     "output_type": "stream",
     "text": [
      "tensor([0.5109])\n"
     ]
    }
   ],
   "source": [
    "import torch\n",
    "from abflow.model.metrics import get_tm_score\n",
    "\n",
    "num_res = 3\n",
    "true_N_coords = N_coords[:, :num_res]\n",
    "true_CA_coords = CA_coords[:, :num_res]\n",
    "true_C_coords = C_coords[:, :num_res]\n",
    "\n",
    "# add a bit of noise to the true structure\n",
    "pred_N_coords = true_N_coords + torch.randn_like(true_N_coords) * 0.1\n",
    "pred_CA_coords = true_CA_coords + torch.randn_like(true_CA_coords) * 0.1\n",
    "pred_C_coords = true_C_coords + torch.randn_like(true_C_coords) * 0.1\n",
    "\n",
    "masks = [torch.ones(pred_N_coords.shape[:2])]\n",
    "\n",
    "pred_coords = [pred_N_coords]\n",
    "true_coords = [true_N_coords]\n",
    "print(get_tm_score(pred_coords, true_coords, masks))\n"
   ]
  }
 ],
 "metadata": {
  "kernelspec": {
   "display_name": "sabdl",
   "language": "python",
   "name": "python3"
  },
  "language_info": {
   "codemirror_mode": {
    "name": "ipython",
    "version": 3
   },
   "file_extension": ".py",
   "mimetype": "text/x-python",
   "name": "python",
   "nbconvert_exporter": "python",
   "pygments_lexer": "ipython3",
   "version": "3.11.9"
  }
 },
 "nbformat": 4,
 "nbformat_minor": 2
}
